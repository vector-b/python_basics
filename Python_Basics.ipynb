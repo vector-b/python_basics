{
 "cells": [
  {
   "cell_type": "markdown",
   "metadata": {},
   "source": [
    "Notebook designado para Dicas de python, em comparativo com C - Apenas Basics"
   ]
  },
  {
   "cell_type": "code",
   "execution_count": 26,
   "metadata": {},
   "outputs": [],
   "source": [
    "#Atribuições e tipos de variáveis\n",
    "var1 = 1; #Número\n",
    "var2 = 'a'; #Char\n",
    "var3 = 'None Shall Pass'; #String\n",
    "var4 = [] #Lista\n",
    "var5 = () #Tupla\n",
    "\n",
    "'''\n",
    "Em C podemos criar essas estruturas de tal forma:\n",
    "int  var1 = 1;\n",
    "char var2 = 'a';\n",
    "char var3[] = \"None Shall Pass\";\n",
    "int var4[]; #Lista de inteiros \n",
    "tuplas\n",
    "typedef struct {\n",
    "    ...\n",
    "} tTuple;\n",
    "\n",
    "'''"
   ]
  },
  {
   "cell_type": "markdown",
   "metadata": {},
   "source": [
    "Aritmética\n",
    "\n",
    "|    Operação   | Operador |\n",
    "|:-------------:|:--------:|\n",
    "|     adição    |     +    |\n",
    "|   subtração   |     -    |\n",
    "|    divisão    |     /    |\n",
    "| multiplicação |     *    |"
   ]
  },
  {
   "cell_type": "markdown",
   "metadata": {},
   "source": [
    "## Estruturas de Decisão"
   ]
  },
  {
   "cell_type": "code",
   "execution_count": 10,
   "metadata": {},
   "outputs": [
    {
     "name": "stdout",
     "output_type": "stream",
     "text": [
      "No\n",
      "Yes\n"
     ]
    },
    {
     "data": {
      "text/plain": [
       "'\\nEsse exemplo em linguagem C pode ser escrita da seguinte forma: \\n\\n    if (\\'a\\' == \\'c\\')\\n        printf(\"Yes\");\\n    else if(\\'a\\' == \\'a\\')\\n        printf(\"Yes\");\\n    else\\n        printf(\"No\");    \\n'"
      ]
     },
     "execution_count": 10,
     "metadata": {},
     "output_type": "execute_result"
    }
   ],
   "source": [
    "#Estruturas de Decisão\n",
    "'''\n",
    "if\n",
    "if - else\n",
    "if - elif\n",
    "'''\n",
    "#Exemplo 1\n",
    "if ('a' == 'b'):\n",
    "    print(\"Yes\")\n",
    "else:\n",
    "    print(\"No\")\n",
    "\n",
    "'''\n",
    "Esse exemplo em linguagem C pode ser escrita da seguinte forma: \n",
    "\n",
    "    if ('a' == 'c')\n",
    "        printf(\"Yes\");\n",
    "    else\n",
    "        printf(\"No\");    \n",
    "'''\n",
    "    \n",
    "#Exemplo2\n",
    "if('a' == 'c'):\n",
    "    print(\"Yes\")\n",
    "elif('a' == 'a'):\n",
    "    print(\"Yes\")\n",
    "else:\n",
    "    print(\"No\")\n",
    "      \n",
    "'''\n",
    "Esse exemplo em linguagem C pode ser escrita da seguinte forma: \n",
    "\n",
    "    if ('a' == 'c')\n",
    "        printf(\"Yes\");\n",
    "    else if('a' == 'a')\n",
    "        printf(\"Yes\");\n",
    "    else\n",
    "        printf(\"No\");    \n",
    "'''"
   ]
  },
  {
   "cell_type": "markdown",
   "metadata": {},
   "source": [
    "## Estruturas de Repetição"
   ]
  },
  {
   "cell_type": "code",
   "execution_count": 24,
   "metadata": {},
   "outputs": [
    {
     "name": "stdout",
     "output_type": "stream",
     "text": [
      "Perivaldo\n",
      "Jacaré\n",
      "Leonardo\n",
      "Perivaldo\n",
      "Jacaré\n",
      "Leonardo\n",
      "Perivaldo\n",
      "Jacaré\n",
      "Leonardo\n",
      "Huge Success\n",
      "0\n",
      "1\n",
      "0\n",
      "1\n",
      "Fim\n"
     ]
    },
    {
     "data": {
      "text/plain": [
       "'\\nEssa ferramenta não existem linguagem C\\n'"
      ]
     },
     "execution_count": 24,
     "metadata": {},
     "output_type": "execute_result"
    }
   ],
   "source": [
    "#Estruturas de Repetição\n",
    "'''\n",
    "for in\n",
    "for in-range\n",
    "for-else\n",
    "while\n",
    "while - else\n",
    "\n",
    "'''\n",
    "#For in\n",
    "nomes = ['Perivaldo', 'Jacaré', 'Leonardo']\n",
    "for n in nomes: #Percorre o tamanho da lista assumindo n como um valor da própria lista!\n",
    "     print(n) #Printa os nomes\n",
    "        \n",
    "#For in range\n",
    "nomes = ['Perivaldo', 'Jacaré', 'Leonardo']\n",
    "max = len(nomes) #Captura o tamanho da lista\n",
    "for n in range(max): #Percorre o tamanho da lista \n",
    "     print(nomes[n]) #Printa os nomes\n",
    "'''\n",
    " for (i = 1; i < 3; i++)\n",
    "  {\n",
    "    printf(\"%d \", i); #Printa o i atual\n",
    "  }\n",
    "  \n",
    "'''\n",
    "#For-else\n",
    "nomes = ['Perivaldo', 'Jacaré', 'Leonardo']\n",
    "for n in nomes:\n",
    "    print(n)\n",
    "else:\n",
    "     print(\"Huge Success\")        \n",
    "\n",
    "#While Simples\n",
    "cont = 0\n",
    "while (cont < 2):\n",
    "    print(cont)\n",
    "    cont += 1\n",
    "    \n",
    "'''Em C \n",
    "while(Expressão)\n",
    "{\n",
    "   //Do Something \n",
    "}\n",
    "'''\n",
    "  \n",
    "#While - Else\n",
    "cont = 0\n",
    "while (cont < 2):\n",
    "    print(cont)\n",
    "    cont += 1\n",
    "else:\n",
    "    print(\"Fim\")\n",
    "'''\n",
    "Essa ferramenta não existem linguagem C\n",
    "'''\n"
   ]
  },
  {
   "cell_type": "markdown",
   "metadata": {},
   "source": [
    "## Listas"
   ]
  },
  {
   "cell_type": "code",
   "execution_count": 21,
   "metadata": {},
   "outputs": [
    {
     "name": "stdout",
     "output_type": "stream",
     "text": [
      "Lista com 4 números : \n",
      "[1, 2, 3, 4]\n"
     ]
    }
   ],
   "source": [
    "#Listas tem index começando em 0 e terminam em n-1, da mesma forma em C \n",
    "#Nesse exemplo, por exemplo de 0-3\n",
    "List = [1,2,3,4] \n",
    "number = len(List)\n",
    "print(\"Lista com {} números : \".format(number)) \n",
    "print(List)"
   ]
  },
  {
   "cell_type": "code",
   "execution_count": 25,
   "metadata": {},
   "outputs": [
    {
     "name": "stdout",
     "output_type": "stream",
     "text": [
      "[4, 'dale', [], 'a']\n"
     ]
    }
   ],
   "source": [
    "#Acesso a listas, os valores de uma lista em python vão de 0 -> (n-1)\n",
    "List[0] = 4\n",
    "List[1] = 'dale'\n",
    "List[2] = []\n",
    "List[3] = 'a'\n",
    "print(List)"
   ]
  },
  {
   "cell_type": "code",
   "execution_count": 6,
   "metadata": {},
   "outputs": [
    {
     "data": {
      "text/plain": [
       "'a'"
      ]
     },
     "execution_count": 6,
     "metadata": {},
     "output_type": "execute_result"
    }
   ],
   "source": [
    "#Acessa o último valor da lista, pode ser usado em -n \n",
    "List[-1]"
   ]
  },
  {
   "cell_type": "code",
   "execution_count": null,
   "metadata": {},
   "outputs": [],
   "source": []
  }
 ],
 "metadata": {
  "kernelspec": {
   "display_name": "Python 3",
   "language": "python",
   "name": "python3"
  },
  "language_info": {
   "codemirror_mode": {
    "name": "ipython",
    "version": 3
   },
   "file_extension": ".py",
   "mimetype": "text/x-python",
   "name": "python",
   "nbconvert_exporter": "python",
   "pygments_lexer": "ipython3",
   "version": "3.8.3"
  }
 },
 "nbformat": 4,
 "nbformat_minor": 4
}
